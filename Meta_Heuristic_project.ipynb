{
  "cells": [
    {
      "cell_type": "markdown",
      "metadata": {
        "id": "view-in-github",
        "colab_type": "text"
      },
      "source": [
        "<a href=\"https://colab.research.google.com/github/zunaed-farabe/MH-project/blob/main/Meta_Heuristic_project.ipynb\" target=\"_parent\"><img src=\"https://colab.research.google.com/assets/colab-badge.svg\" alt=\"Open In Colab\"/></a>"
      ]
    },
    {
      "cell_type": "code",
      "execution_count": 2,
      "metadata": {
        "colab": {
          "base_uri": "https://localhost:8080/"
        },
        "id": "0vu-joIRQsJr",
        "outputId": "136992b3-5c19-45a4-b5e4-4d5c06633e39"
      },
      "outputs": [
        {
          "output_type": "stream",
          "name": "stdout",
          "text": [
            "W.shape: (100, 10)\n",
            "Vt.T.shape: (10, 100)\n",
            "==================\n",
            "\n"
          ]
        }
      ],
      "source": [
        "import numpy as np\n",
        "from scipy.sparse import vstack, hstack\n",
        "from scipy.sparse.linalg import svds\n",
        "import random\n",
        "\n",
        "def learn_low_rank_representation(X, s):\n",
        "    n_samples, n_features = X.shape\n",
        "    # Random sampling\n",
        "    random_indices = random.sample(range(n_samples), s)\n",
        "    C = X[random_indices, :]\n",
        "    R = vstack([X, C])\n",
        "    # SVD decomposition\n",
        "    U, sigma, Vt = svds(R, k=s)\n",
        "    # Extracting low-rank representation and residual error\n",
        "    W = U[:n_samples, :]\n",
        "\n",
        "    print(\"W.shape:\", W.shape)\n",
        "    print(\"Vt.T.shape:\", Vt.shape)\n",
        "    print(\"==================\\n\")\n",
        "    residual_error = X - W.dot(Vt)\n",
        "    return W, residual_error\n",
        "\n",
        "def objective_function(x, W, residual_error):\n",
        "    x = np.atleast_2d(x)\n",
        "    solution = W.dot(x.T)\n",
        "    residual_error_new = X - solution\n",
        "    cost = np.sum(np.square(residual_error_new))\n",
        "    return cost\n",
        "\n",
        "def pso(x0, bounds, W, residual_error, n_generations, population_size, n_neighbors, phi1=2.05, phi2=2.05):\n",
        "    n_variables = x0.shape[0]\n",
        "    n_objs = 1\n",
        "    population = np.random.uniform(bounds[:, 0], bounds[:, 1], (population_size, n_variables))\n",
        "    velocity = np.zeros((population_size, n_variables))\n",
        "    personal_best = population.copy()\n",
        "    global_best = personal_best[np.argmin(objective_function(personal_best, W, residual_error))]\n",
        "    pbest_values = objective_function(personal_best, W, residual_error)\n",
        "    gbest_value = objective_function(global_best, W, residual_error)\n",
        "    # Evolutionary computation\n",
        "    for generation in range(n_generations):\n",
        "        for i in range(population_size):\n",
        "            velocity[i, :] = phi1 * np.random.rand() * (personal_best[i, :] - population[i, :]) + \\\n",
        "                              phi2 * np.random.rand() * (global_best - population[i, :])\n",
        "            population[i, :] += velocity[i, :]\n",
        "            # Constraint handling\n",
        "            population[i, :] = np.clip(population[i, :], bounds[:, 0], bounds[:, 1])\n",
        "            # Update personal and global bests\n",
        "            obj_value = objective_function(population[i, :], W, residual_error)\n",
        "            if obj_value < pbest_values[i]:\n",
        "                personal_best[i, :] = population[i, :]\n",
        "                pbest_values[i] = obj_value\n",
        "                if obj_value < gbest_value:\n",
        "                    global_best = population[i, :]\n",
        "                    gbest_value = obj_value\n",
        "        # Local version PSO\n",
        "        sorted_indices = np.argsort(pbest_values)\n",
        "        neighbors = sorted_indices[:n_neighbors]\n",
        "        n_dimensions = x0.shape[0]\n",
        "        neighbors_matrix = np.zeros((n_neighbors, n_dimensions))\n",
        "        for i in range(n_neighbors):\n",
        "            neighbors_matrix[i, :] = personal_best[neighbors[i], :]\n",
        "        neighbors_mean = np.mean(neighbors_matrix, axis=0)\n",
        "        # Mutation\n",
        "        x0 = neighbors_mean + np.random.randn(n_variables) * np.std(neighbors_matrix, axis=0)\n",
        "    return global_best\n",
        "\n",
        "X = np.random.rand(100, 100)\n",
        "W, residual_error = learn_low_rank_representation(X, 10)\n",
        "n_variables = X.shape[1]\n",
        "bounds = np.vstack([np.zeros])"
      ]
    },
    {
      "cell_type": "code",
      "source": [
        "!pip install deap"
      ],
      "metadata": {
        "colab": {
          "base_uri": "https://localhost:8080/"
        },
        "id": "_Gk-b_vq52T4",
        "outputId": "c2636c22-0de0-4253-90cd-232c79c91812"
      },
      "execution_count": 6,
      "outputs": [
        {
          "output_type": "stream",
          "name": "stdout",
          "text": [
            "Collecting deap\n",
            "  Downloading deap-1.4.1-cp310-cp310-manylinux_2_5_x86_64.manylinux1_x86_64.manylinux_2_17_x86_64.manylinux2014_x86_64.whl (135 kB)\n",
            "\u001b[2K     \u001b[90m━━━━━━━━━━━━━━━━━━━━━━━━━━━━━━━━━━━━━━━━\u001b[0m \u001b[32m135.4/135.4 kB\u001b[0m \u001b[31m1.5 MB/s\u001b[0m eta \u001b[36m0:00:00\u001b[0m\n",
            "\u001b[?25hRequirement already satisfied: numpy in /usr/local/lib/python3.10/dist-packages (from deap) (1.25.2)\n",
            "Installing collected packages: deap\n",
            "Successfully installed deap-1.4.1\n"
          ]
        }
      ]
    },
    {
      "cell_type": "code",
      "execution_count": 15,
      "metadata": {
        "id": "8jcT0MexU-zg",
        "colab": {
          "base_uri": "https://localhost:8080/",
          "height": 332
        },
        "outputId": "97605773-dfc4-420a-dd1a-63607e2780ec"
      },
      "outputs": [
        {
          "output_type": "error",
          "ename": "ValueError",
          "evalue": "shapes (10,51) and (100,51) not aligned: 51 (dim 1) != 100 (dim 0)",
          "traceback": [
            "\u001b[0;31m---------------------------------------------------------------------------\u001b[0m",
            "\u001b[0;31mValueError\u001b[0m                                Traceback (most recent call last)",
            "\u001b[0;32m<ipython-input-15-dc63977cc583>\u001b[0m in \u001b[0;36m<cell line: 58>\u001b[0;34m()\u001b[0m\n\u001b[1;32m     56\u001b[0m \u001b[0;31m# Example usage\u001b[0m\u001b[0;34m\u001b[0m\u001b[0;34m\u001b[0m\u001b[0m\n\u001b[1;32m     57\u001b[0m \u001b[0mX\u001b[0m \u001b[0;34m=\u001b[0m \u001b[0mnp\u001b[0m\u001b[0;34m.\u001b[0m\u001b[0mrandom\u001b[0m\u001b[0;34m.\u001b[0m\u001b[0mrand\u001b[0m\u001b[0;34m(\u001b[0m\u001b[0;36m100\u001b[0m\u001b[0;34m,\u001b[0m \u001b[0;36m50\u001b[0m\u001b[0;34m)\u001b[0m  \u001b[0;31m# Replace with your dataset\u001b[0m\u001b[0;34m\u001b[0m\u001b[0;34m\u001b[0m\u001b[0m\n\u001b[0;32m---> 58\u001b[0;31m \u001b[0mW\u001b[0m\u001b[0;34m,\u001b[0m \u001b[0mresidual_error\u001b[0m \u001b[0;34m=\u001b[0m \u001b[0mlearn_low_rank_representation\u001b[0m\u001b[0;34m(\u001b[0m\u001b[0mX\u001b[0m\u001b[0;34m)\u001b[0m\u001b[0;34m\u001b[0m\u001b[0;34m\u001b[0m\u001b[0m\n\u001b[0m\u001b[1;32m     59\u001b[0m \u001b[0mxT\u001b[0m \u001b[0;34m=\u001b[0m \u001b[0mevolutionary_computation\u001b[0m\u001b[0;34m(\u001b[0m\u001b[0mW\u001b[0m\u001b[0;34m,\u001b[0m \u001b[0mresidual_error\u001b[0m\u001b[0;34m)\u001b[0m\u001b[0;34m\u001b[0m\u001b[0;34m\u001b[0m\u001b[0m\n\u001b[1;32m     60\u001b[0m \u001b[0mprint\u001b[0m\u001b[0;34m(\u001b[0m\u001b[0;34m\"Final solution:\"\u001b[0m\u001b[0;34m,\u001b[0m \u001b[0mxT\u001b[0m\u001b[0;34m)\u001b[0m\u001b[0;34m\u001b[0m\u001b[0;34m\u001b[0m\u001b[0m\n",
            "\u001b[0;32m<ipython-input-15-dc63977cc583>\u001b[0m in \u001b[0;36mlearn_low_rank_representation\u001b[0;34m(X, s)\u001b[0m\n\u001b[1;32m     21\u001b[0m     \u001b[0mC\u001b[0m \u001b[0;34m=\u001b[0m \u001b[0mnp\u001b[0m\u001b[0;34m.\u001b[0m\u001b[0mhstack\u001b[0m\u001b[0;34m(\u001b[0m\u001b[0;34m(\u001b[0m\u001b[0mC\u001b[0m\u001b[0;34m,\u001b[0m \u001b[0mnp\u001b[0m\u001b[0;34m.\u001b[0m\u001b[0mones\u001b[0m\u001b[0;34m(\u001b[0m\u001b[0;34m(\u001b[0m\u001b[0ms\u001b[0m\u001b[0;34m,\u001b[0m \u001b[0;36m1\u001b[0m\u001b[0;34m)\u001b[0m\u001b[0;34m)\u001b[0m\u001b[0;34m)\u001b[0m\u001b[0;34m)\u001b[0m\u001b[0;34m\u001b[0m\u001b[0;34m\u001b[0m\u001b[0m\n\u001b[1;32m     22\u001b[0m     \u001b[0mR\u001b[0m \u001b[0;34m=\u001b[0m \u001b[0mnp\u001b[0m\u001b[0;34m.\u001b[0m\u001b[0mhstack\u001b[0m\u001b[0;34m(\u001b[0m\u001b[0;34m(\u001b[0m\u001b[0mnp\u001b[0m\u001b[0;34m.\u001b[0m\u001b[0mones\u001b[0m\u001b[0;34m(\u001b[0m\u001b[0;34m(\u001b[0m\u001b[0mR\u001b[0m\u001b[0;34m.\u001b[0m\u001b[0mshape\u001b[0m\u001b[0;34m[\u001b[0m\u001b[0;36m0\u001b[0m\u001b[0;34m]\u001b[0m\u001b[0;34m,\u001b[0m \u001b[0;36m1\u001b[0m\u001b[0;34m)\u001b[0m\u001b[0;34m)\u001b[0m\u001b[0;34m,\u001b[0m \u001b[0mR\u001b[0m\u001b[0;34m)\u001b[0m\u001b[0;34m)\u001b[0m\u001b[0;34m\u001b[0m\u001b[0;34m\u001b[0m\u001b[0m\n\u001b[0;32m---> 23\u001b[0;31m     \u001b[0mU\u001b[0m\u001b[0;34m,\u001b[0m \u001b[0msigma\u001b[0m\u001b[0;34m,\u001b[0m \u001b[0mVt\u001b[0m \u001b[0;34m=\u001b[0m \u001b[0msvds\u001b[0m\u001b[0;34m(\u001b[0m\u001b[0mnp\u001b[0m\u001b[0;34m.\u001b[0m\u001b[0mdot\u001b[0m\u001b[0;34m(\u001b[0m\u001b[0mC\u001b[0m\u001b[0;34m,\u001b[0m \u001b[0mR\u001b[0m\u001b[0;34m)\u001b[0m\u001b[0;34m,\u001b[0m \u001b[0mk\u001b[0m\u001b[0;34m=\u001b[0m\u001b[0ms\u001b[0m\u001b[0;34m)\u001b[0m\u001b[0;34m\u001b[0m\u001b[0;34m\u001b[0m\u001b[0m\n\u001b[0m\u001b[1;32m     24\u001b[0m     \u001b[0mW\u001b[0m \u001b[0;34m=\u001b[0m \u001b[0mnp\u001b[0m\u001b[0;34m.\u001b[0m\u001b[0mdot\u001b[0m\u001b[0;34m(\u001b[0m\u001b[0mU\u001b[0m\u001b[0;34m[\u001b[0m\u001b[0;34m:\u001b[0m\u001b[0;34m,\u001b[0m \u001b[0;34m:\u001b[0m\u001b[0ms\u001b[0m\u001b[0;34m]\u001b[0m\u001b[0;34m,\u001b[0m \u001b[0mVt\u001b[0m\u001b[0;34m[\u001b[0m\u001b[0;34m:\u001b[0m\u001b[0ms\u001b[0m\u001b[0;34m,\u001b[0m \u001b[0;34m:\u001b[0m\u001b[0;34m]\u001b[0m\u001b[0;34m)\u001b[0m\u001b[0;34m\u001b[0m\u001b[0;34m\u001b[0m\u001b[0m\n\u001b[1;32m     25\u001b[0m     \u001b[0mresidual_error\u001b[0m \u001b[0;34m=\u001b[0m \u001b[0mnp\u001b[0m\u001b[0;34m.\u001b[0m\u001b[0mlinalg\u001b[0m\u001b[0;34m.\u001b[0m\u001b[0mnorm\u001b[0m\u001b[0;34m(\u001b[0m\u001b[0mX\u001b[0m \u001b[0;34m-\u001b[0m \u001b[0mnp\u001b[0m\u001b[0;34m.\u001b[0m\u001b[0mdot\u001b[0m\u001b[0;34m(\u001b[0m\u001b[0mW\u001b[0m\u001b[0;34m,\u001b[0m \u001b[0mnp\u001b[0m\u001b[0;34m.\u001b[0m\u001b[0mdot\u001b[0m\u001b[0;34m(\u001b[0m\u001b[0mW\u001b[0m\u001b[0;34m.\u001b[0m\u001b[0mT\u001b[0m\u001b[0;34m,\u001b[0m \u001b[0mX\u001b[0m\u001b[0;34m)\u001b[0m\u001b[0;34m)\u001b[0m\u001b[0;34m)\u001b[0m\u001b[0;34m\u001b[0m\u001b[0;34m\u001b[0m\u001b[0m\n",
            "\u001b[0;31mValueError\u001b[0m: shapes (10,51) and (100,51) not aligned: 51 (dim 1) != 100 (dim 0)"
          ]
        }
      ],
      "source": [
        "import numpy as np\n",
        "from scipy.sparse.linalg import svds\n",
        "from deap import base, creator, tools, algorithms\n",
        "\n",
        "\n",
        "def learn_low_rank_representation(X, s=10):\n",
        "    m, n = X.shape\n",
        "    C = X[np.random.choice(m, size=s, replace=False), :]\n",
        "    R = X[:, np.random.choice(n, size=C.shape[1], replace=False)]\n",
        "    C = np.hstack((C, np.ones((s, 1))))\n",
        "    R = np.hstack((np.ones((R.shape[0], 1)), R))\n",
        "    U, sigma, Vt = svds(np.dot(C, R), k=s)\n",
        "    W = np.dot(U[:, :s], Vt[:s, :])\n",
        "    residual_error = np.linalg.norm(X - np.dot(W, np.dot(W.T, X)))\n",
        "    return W, residual_error\n",
        "\n",
        "def evolutionary_computation(W, residual_error, pop_size=100, num_generations=100):\n",
        "    creator.create(\"FitnessMin\", base.Fitness, weights=(-1.0,))\n",
        "    creator.create(\"Individual\", list, fitness=creator.FitnessMin)\n",
        "\n",
        "    def evaluate(individual):\n",
        "        return np.linalg.norm(np.dot(W, individual) - X),\n",
        "\n",
        "    toolbox = base.Toolbox()\n",
        "    toolbox.register(\"attr_float\", np.random.uniform, -1, 1)\n",
        "    toolbox.register(\"individual\", tools.initRepeat, creator.Individual, toolbox.attr_float, n=W.shape[1])\n",
        "    toolbox.register(\"population\", tools.initRepeat, list, toolbox.individual)\n",
        "    toolbox.register(\"mate\", tools.cxTwoPoint)\n",
        "    toolbox.register(\"mutate\", tools.mutGaussian, mu=0, sigma=1, indpb=0.1)\n",
        "    toolbox.register(\"select\", tools.selTournament, tournsize=3)\n",
        "    toolbox.register(\"evaluate\", evaluate)\n",
        "\n",
        "    pop = toolbox.population(n=pop_size)\n",
        "    hof = tools.HallOfFame(1)\n",
        "    stats = tools.Statistics(lambda ind: ind.fitness.values)\n",
        "    stats.register(\"avg\", np.mean)\n",
        "    stats.register(\"std\", np.std)\n",
        "    stats.register(\"min\", np.min)\n",
        "    stats.register(\"max\", np.max)\n",
        "\n",
        "    pop, log = algorithms.eaSimple(pop, toolbox, cxpb=0.5, mutpb=0.1, ngen=num_generations, stats=stats, halloffame=hof, verbose=True)\n",
        "    xT = hof[0]\n",
        "    return xT\n",
        "\n",
        "# Example usage\n",
        "X = np.random.rand(100, 50)  # Replace with your dataset\n",
        "W, residual_error = learn_low_rank_representation(X)\n",
        "xT = evolutionary_computation(W, residual_error)\n",
        "print(\"Final solution:\", xT)"
      ]
    },
    {
      "cell_type": "code",
      "source": [
        "!pip install scipy"
      ],
      "metadata": {
        "colab": {
          "base_uri": "https://localhost:8080/"
        },
        "id": "F9M0a9Kr7SUV",
        "outputId": "f310984b-430d-4a67-a203-61305c9753ba"
      },
      "execution_count": 12,
      "outputs": [
        {
          "output_type": "stream",
          "name": "stdout",
          "text": [
            "Requirement already satisfied: scipy in /usr/local/lib/python3.10/dist-packages (1.11.4)\n",
            "Requirement already satisfied: numpy<1.28.0,>=1.21.6 in /usr/local/lib/python3.10/dist-packages (from scipy) (1.25.2)\n"
          ]
        }
      ]
    },
    {
      "cell_type": "code",
      "execution_count": 18,
      "metadata": {
        "id": "tbjjoVcBUlef",
        "colab": {
          "base_uri": "https://localhost:8080/",
          "height": 356
        },
        "outputId": "abc94bfb-a3f3-478d-ad9e-d20b173145fb"
      },
      "outputs": [
        {
          "output_type": "error",
          "ename": "ValueError",
          "evalue": "all the input array dimensions except for the concatenation axis must match exactly, but along dimension 1, the array at index 0 has size 10 and the array at index 1 has size 3",
          "traceback": [
            "\u001b[0;31m---------------------------------------------------------------------------\u001b[0m",
            "\u001b[0;31mValueError\u001b[0m                                Traceback (most recent call last)",
            "\u001b[0;32m<ipython-input-18-7e37de290605>\u001b[0m in \u001b[0;36m<cell line: 60>\u001b[0;34m()\u001b[0m\n\u001b[1;32m     58\u001b[0m \u001b[0mpopulation_size\u001b[0m \u001b[0;34m=\u001b[0m \u001b[0;36m50\u001b[0m  \u001b[0;31m# Size of the population for GA\u001b[0m\u001b[0;34m\u001b[0m\u001b[0;34m\u001b[0m\u001b[0m\n\u001b[1;32m     59\u001b[0m \u001b[0;34m\u001b[0m\u001b[0m\n\u001b[0;32m---> 60\u001b[0;31m \u001b[0mW\u001b[0m\u001b[0;34m,\u001b[0m \u001b[0mresidual_error\u001b[0m \u001b[0;34m=\u001b[0m \u001b[0mlearn_low_rank_representation\u001b[0m\u001b[0;34m(\u001b[0m\u001b[0mX\u001b[0m\u001b[0;34m,\u001b[0m \u001b[0ms\u001b[0m\u001b[0;34m)\u001b[0m\u001b[0;34m\u001b[0m\u001b[0;34m\u001b[0m\u001b[0m\n\u001b[0m\u001b[1;32m     61\u001b[0m \u001b[0mxT\u001b[0m \u001b[0;34m=\u001b[0m \u001b[0mevolutionary_computation\u001b[0m\u001b[0;34m(\u001b[0m\u001b[0mW\u001b[0m\u001b[0;34m,\u001b[0m \u001b[0mresidual_error\u001b[0m\u001b[0;34m,\u001b[0m \u001b[0mnum_generations\u001b[0m\u001b[0;34m,\u001b[0m \u001b[0mpopulation_size\u001b[0m\u001b[0;34m)\u001b[0m\u001b[0;34m\u001b[0m\u001b[0;34m\u001b[0m\u001b[0m\n",
            "\u001b[0;32m<ipython-input-18-7e37de290605>\u001b[0m in \u001b[0;36mlearn_low_rank_representation\u001b[0;34m(X, s)\u001b[0m\n\u001b[1;32m     11\u001b[0m \u001b[0;34m\u001b[0m\u001b[0m\n\u001b[1;32m     12\u001b[0m     \u001b[0;31m# Compute SVD of the concatenated matrices C and R\u001b[0m\u001b[0;34m\u001b[0m\u001b[0;34m\u001b[0m\u001b[0m\n\u001b[0;32m---> 13\u001b[0;31m     \u001b[0m_\u001b[0m\u001b[0;34m,\u001b[0m \u001b[0m_\u001b[0m\u001b[0;34m,\u001b[0m \u001b[0mVT\u001b[0m \u001b[0;34m=\u001b[0m \u001b[0mlinalg\u001b[0m\u001b[0;34m.\u001b[0m\u001b[0msvds\u001b[0m\u001b[0;34m(\u001b[0m\u001b[0mnp\u001b[0m\u001b[0;34m.\u001b[0m\u001b[0mvstack\u001b[0m\u001b[0;34m(\u001b[0m\u001b[0;34m(\u001b[0m\u001b[0mC\u001b[0m\u001b[0;34m,\u001b[0m \u001b[0mR\u001b[0m\u001b[0;34m)\u001b[0m\u001b[0;34m)\u001b[0m\u001b[0;34m,\u001b[0m \u001b[0mk\u001b[0m\u001b[0;34m=\u001b[0m\u001b[0ms\u001b[0m\u001b[0;34m)\u001b[0m\u001b[0;34m\u001b[0m\u001b[0;34m\u001b[0m\u001b[0m\n\u001b[0m\u001b[1;32m     14\u001b[0m \u001b[0;34m\u001b[0m\u001b[0m\n\u001b[1;32m     15\u001b[0m     \u001b[0;31m# Extract the first s right singular vectors and corresponding left singular vectors\u001b[0m\u001b[0;34m\u001b[0m\u001b[0;34m\u001b[0m\u001b[0m\n",
            "\u001b[0;32m/usr/local/lib/python3.10/dist-packages/numpy/core/shape_base.py\u001b[0m in \u001b[0;36mvstack\u001b[0;34m(tup, dtype, casting)\u001b[0m\n\u001b[1;32m    287\u001b[0m     \u001b[0;32mif\u001b[0m \u001b[0;32mnot\u001b[0m \u001b[0misinstance\u001b[0m\u001b[0;34m(\u001b[0m\u001b[0marrs\u001b[0m\u001b[0;34m,\u001b[0m \u001b[0mlist\u001b[0m\u001b[0;34m)\u001b[0m\u001b[0;34m:\u001b[0m\u001b[0;34m\u001b[0m\u001b[0;34m\u001b[0m\u001b[0m\n\u001b[1;32m    288\u001b[0m         \u001b[0marrs\u001b[0m \u001b[0;34m=\u001b[0m \u001b[0;34m[\u001b[0m\u001b[0marrs\u001b[0m\u001b[0;34m]\u001b[0m\u001b[0;34m\u001b[0m\u001b[0;34m\u001b[0m\u001b[0m\n\u001b[0;32m--> 289\u001b[0;31m     \u001b[0;32mreturn\u001b[0m \u001b[0m_nx\u001b[0m\u001b[0;34m.\u001b[0m\u001b[0mconcatenate\u001b[0m\u001b[0;34m(\u001b[0m\u001b[0marrs\u001b[0m\u001b[0;34m,\u001b[0m \u001b[0;36m0\u001b[0m\u001b[0;34m,\u001b[0m \u001b[0mdtype\u001b[0m\u001b[0;34m=\u001b[0m\u001b[0mdtype\u001b[0m\u001b[0;34m,\u001b[0m \u001b[0mcasting\u001b[0m\u001b[0;34m=\u001b[0m\u001b[0mcasting\u001b[0m\u001b[0;34m)\u001b[0m\u001b[0;34m\u001b[0m\u001b[0;34m\u001b[0m\u001b[0m\n\u001b[0m\u001b[1;32m    290\u001b[0m \u001b[0;34m\u001b[0m\u001b[0m\n\u001b[1;32m    291\u001b[0m \u001b[0;34m\u001b[0m\u001b[0m\n",
            "\u001b[0;31mValueError\u001b[0m: all the input array dimensions except for the concatenation axis must match exactly, but along dimension 1, the array at index 0 has size 10 and the array at index 1 has size 3"
          ]
        }
      ],
      "source": [
        "import numpy as np\n",
        "from scipy.sparse import linalg\n",
        "import random\n",
        "\n",
        "def learn_low_rank_representation(X, s):\n",
        "    # Randomly sample s rows/columns from X\n",
        "    row_indices = random.sample(range(X.shape[0]), s)\n",
        "    col_indices = random.sample(range(X.shape[1]), s)\n",
        "    C = X[row_indices, :]\n",
        "    R = X[:, col_indices]\n",
        "\n",
        "    # Compute SVD of the concatenated matrices C and R\n",
        "    _, _, VT = linalg.svds(np.vstack((C, R)), k=s)\n",
        "\n",
        "    # Extract the first s right singular vectors and corresponding left singular vectors\n",
        "    W = VT[:s, :].T\n",
        "\n",
        "    # Calculate the residual error\n",
        "    residual_error = X - W @ W.T @ X\n",
        "\n",
        "    return W, residual_error\n",
        "\n",
        "def evolutionary_computation(W, residual_error, num_generations, population_size):\n",
        "    # Initialize the population around the attention subspace W\n",
        "    x0 = np.random.normal(loc=W.flatten(), scale=0.1, size=(population_size, W.size))\n",
        "\n",
        "    # Perform evolutionary computation using GA\n",
        "    for generation in range(num_generations):\n",
        "        # Evaluate fitness for each individual in the population\n",
        "        fitness_scores = np.sum((x0.reshape(-1, W.shape[0], W.shape[1]) @ W.T @ residual_error)**2, axis=(1, 2))\n",
        "\n",
        "        # Select parents for reproduction\n",
        "        parent_indices = np.random.choice(population_size, size=population_size, replace=True, p=fitness_scores/np.sum(fitness_scores))\n",
        "        parents = x0[parent_indices]\n",
        "\n",
        "        # Perform crossover and mutation to create offspring\n",
        "        offspring = np.empty_like(parents)\n",
        "        for i in range(0, population_size, 2):\n",
        "            parent1, parent2 = parents[i], parents[i+1]\n",
        "            crossover_point = np.random.randint(1, W.size)\n",
        "            offspring[i] = np.concatenate((parent1[:crossover_point], parent2[crossover_point:]))\n",
        "            offspring[i+1] = np.concatenate((parent2[:crossover_point], parent1[crossover_point:]))\n",
        "        mutation_mask = np.random.rand(population_size, W.size) < 0.1\n",
        "        offspring[mutation_mask] += np.random.normal(scale=0.1, size=offspring[mutation_mask].shape)\n",
        "\n",
        "        # Replace the population with the offspring\n",
        "        x0 = offspring\n",
        "\n",
        "    # Obtain the final solution\n",
        "    xT = x0[np.argmin(np.sum((x0.reshape(-1, W.shape[0], W.shape[1]) @ W.T @ residual_error)**2, axis=(1, 2)))]\n",
        "\n",
        "    return xT\n",
        "\n",
        "# Example usage\n",
        "X = np.random.rand(10, 10)  # Replace with your dataset\n",
        "s = 3  # Number of rows/columns to sample\n",
        "num_generations = 5  # Number of generations for evolutionary computation\n",
        "population_size = 50  # Size of the population for GA\n",
        "\n",
        "W, residual_error = learn_low_rank_representation(X, s)\n",
        "xT = evolutionary_computation(W, residual_error, num_generations, population_size)"
      ]
    },
    {
      "cell_type": "code",
      "source": [
        "\n",
        "#chatGpt\n",
        "\n",
        "import numpy as np\n",
        "from scipy.sparse.linalg import svds\n",
        "from deap import algorithms, base, creator, tools\n",
        "global W\n",
        "def learn_low_rank_representation(X, s):\n",
        "    \"\"\"\n",
        "    Learn a low-rank representation of the dataset X.\n",
        "\n",
        "    Parameters:\n",
        "        X (numpy.ndarray): The dataset.\n",
        "        s (int): The number of rows/columns to sample.\n",
        "\n",
        "    Returns:\n",
        "        W (numpy.ndarray): The low-rank representation.\n",
        "        residual_error (numpy.ndarray): The residual error.\n",
        "    \"\"\"\n",
        "    # Random sampling of s rows/columns\n",
        "    indices = np.random.choice(X.shape[0], s, replace=False)\n",
        "    C = X[indices, :]\n",
        "    R = X[:, indices]\n",
        "\n",
        "    # Compute SVD of concatenated matrices\n",
        "    U, sigma, Vt = svds(np.hstack((C.T, R)), k=s)\n",
        "\n",
        "    # Extract the low-rank representation\n",
        "    W = np.dot(U[:, :s], np.diag(sigma[:s]))\n",
        "\n",
        "    # Calculate the residual error\n",
        "    reconstructed_X = np.dot(W, Vt[:s, :])\n",
        "\n",
        "\n",
        "    X = X.reshape(-1)  # [1, 2, 3, 4, 5, 6]\n",
        "    reconstructed_X = reconstructed_X.reshape(-1)\n",
        "    max_size = max(len(X), len(reconstructed_X))\n",
        "    X_padded = np.pad(X, (0, max_size - len(X)), mode='constant')\n",
        "    reconstructed_X_padded = np.pad(reconstructed_X, (0, max_size - len(reconstructed_X)), mode='constant')\n",
        "    residual_error = X_padded - reconstructed_X_padded\n",
        "\n",
        "\n",
        "    return W, residual_error\n",
        "\n",
        "def evolutionary_computation(W, residual_error, num_generations):\n",
        "    \"\"\"\n",
        "    Perform evolutionary computation using a genetic algorithm.\n",
        "\n",
        "    Parameters:\n",
        "        W (numpy.ndarray): The low-rank representation.\n",
        "        residual_error (numpy.ndarray): The residual error.\n",
        "        num_generations (int): The number of generations.\n",
        "\n",
        "    Returns:\n",
        "        final_solution (numpy.ndarray): The final solution found by the genetic algorithm.\n",
        "    \"\"\"\n",
        "    # Define the fitness function\n",
        "\n",
        "    def evaluate(individual):\n",
        "        global W\n",
        "        individual = individual.reshape(-1)\n",
        "        W = W.reshape(-1)\n",
        "        max_size = max(len(W), len(individual))\n",
        "        W_padded = np.pad(W, (0, max_size - len(W)), mode='constant')\n",
        "        individual = np.pad(individual, (0, max_size - len(individual)), mode='constant')\n",
        "        new_residual_error = W_padded.dot(individual)\n",
        "\n",
        "        return np.sum(np.square(new_residual_error - residual_error))\n",
        "\n",
        "    # Define genetic algorithm parameters\n",
        "    creator.create(\"FitnessMin\", base.Fitness, weights=(-1.0,))\n",
        "    creator.create(\"Individual\", np.ndarray, fitness=creator.FitnessMin)\n",
        "\n",
        "    toolbox = base.Toolbox()\n",
        "    toolbox.register(\"attr_float\", np.random.uniform, 0, 1)\n",
        "    toolbox.register(\"individual\", tools.initRepeat, creator.Individual, toolbox.attr_float, n=W.shape[1])\n",
        "    toolbox.register(\"population\", tools.initRepeat, list, toolbox.individual)\n",
        "    toolbox.register(\"mate\", tools.cxBlend, alpha=0.5)\n",
        "    toolbox.register(\"mutate\", tools.mutGaussian, mu=0, sigma=0.1, indpb=0.05)\n",
        "    toolbox.register(\"select\", tools.selTournament, tournsize=3)\n",
        "    toolbox.register(\"evaluate\", evaluate)\n",
        "\n",
        "    # Initialize population\n",
        "    population = toolbox.population(n=100)\n",
        "\n",
        "    # Perform evolution\n",
        "    algorithms.eaSimple(population, toolbox, cxpb=0.5, mutpb=0.2, ngen=num_generations, verbose=False)\n",
        "\n",
        "    # Get the best individual\n",
        "    final_solution = tools.selBest(population, k=1)[0]\n",
        "\n",
        "    return final_solution\n",
        "\n",
        "def main(X, s, num_generations):\n",
        "    \"\"\"\n",
        "    Main function to combine the steps of learning low-rank representation\n",
        "    and performing evolutionary computation.\n",
        "\n",
        "    Parameters:\n",
        "        X (numpy.ndarray): The dataset.\n",
        "        s (int): The number of rows/columns to sample.\n",
        "        num_generations (int): The number of generations for evolutionary computation.\n",
        "\n",
        "    Returns:\n",
        "        final_solution (numpy.ndarray): The final solution found by the evolutionary computation.\n",
        "    \"\"\"\n",
        "    # Step 1: Learning a low-rank representation\n",
        "    W, residual_error = learn_low_rank_representation(X, s)\n",
        "\n",
        "    # Step 2: Performing evolutionary computation\n",
        "    final_solution = evolutionary_computation(W, residual_error, num_generations)\n",
        "\n",
        "    return final_solution\n",
        "\n",
        "# Example usage:\n",
        "X = np.random.rand(10, 10)\n",
        "s = 4\n",
        "num_generations = 5\n",
        "result = main(X, s, num_generations)\n"
      ],
      "metadata": {
        "colab": {
          "base_uri": "https://localhost:8080/",
          "height": 775
        },
        "id": "s5is0svb9f1G",
        "outputId": "89204367-60f9-4554-cc22-84da8ecf0621"
      },
      "execution_count": 132,
      "outputs": [
        {
          "output_type": "stream",
          "name": "stderr",
          "text": [
            "/usr/local/lib/python3.10/dist-packages/deap/creator.py:185: RuntimeWarning: A class named 'FitnessMin' has already been created and it will be overwritten. Consider deleting previous creation of that class or rename it.\n",
            "  warnings.warn(\"A class named '{0}' has already been created and it \"\n",
            "/usr/local/lib/python3.10/dist-packages/deap/creator.py:185: RuntimeWarning: A class named 'Individual' has already been created and it will be overwritten. Consider deleting previous creation of that class or rename it.\n",
            "  warnings.warn(\"A class named '{0}' has already been created and it \"\n"
          ]
        },
        {
          "output_type": "error",
          "ename": "TypeError",
          "evalue": "object of type 'numpy.float64' has no len()",
          "traceback": [
            "\u001b[0;31m---------------------------------------------------------------------------\u001b[0m",
            "\u001b[0;31mTypeError\u001b[0m                                 Traceback (most recent call last)",
            "\u001b[0;32m<ipython-input-132-be650fec39a7>\u001b[0m in \u001b[0;36m<cell line: 118>\u001b[0;34m()\u001b[0m\n\u001b[1;32m    116\u001b[0m \u001b[0ms\u001b[0m \u001b[0;34m=\u001b[0m \u001b[0;36m4\u001b[0m\u001b[0;34m\u001b[0m\u001b[0;34m\u001b[0m\u001b[0m\n\u001b[1;32m    117\u001b[0m \u001b[0mnum_generations\u001b[0m \u001b[0;34m=\u001b[0m \u001b[0;36m5\u001b[0m\u001b[0;34m\u001b[0m\u001b[0;34m\u001b[0m\u001b[0m\n\u001b[0;32m--> 118\u001b[0;31m \u001b[0mresult\u001b[0m \u001b[0;34m=\u001b[0m \u001b[0mmain\u001b[0m\u001b[0;34m(\u001b[0m\u001b[0mX\u001b[0m\u001b[0;34m,\u001b[0m \u001b[0ms\u001b[0m\u001b[0;34m,\u001b[0m \u001b[0mnum_generations\u001b[0m\u001b[0;34m)\u001b[0m\u001b[0;34m\u001b[0m\u001b[0;34m\u001b[0m\u001b[0m\n\u001b[0m",
            "\u001b[0;32m<ipython-input-132-be650fec39a7>\u001b[0m in \u001b[0;36mmain\u001b[0;34m(X, s, num_generations)\u001b[0m\n\u001b[1;32m    108\u001b[0m \u001b[0;34m\u001b[0m\u001b[0m\n\u001b[1;32m    109\u001b[0m     \u001b[0;31m# Step 2: Performing evolutionary computation\u001b[0m\u001b[0;34m\u001b[0m\u001b[0;34m\u001b[0m\u001b[0m\n\u001b[0;32m--> 110\u001b[0;31m     \u001b[0mfinal_solution\u001b[0m \u001b[0;34m=\u001b[0m \u001b[0mevolutionary_computation\u001b[0m\u001b[0;34m(\u001b[0m\u001b[0mW\u001b[0m\u001b[0;34m,\u001b[0m \u001b[0mresidual_error\u001b[0m\u001b[0;34m,\u001b[0m \u001b[0mnum_generations\u001b[0m\u001b[0;34m)\u001b[0m\u001b[0;34m\u001b[0m\u001b[0;34m\u001b[0m\u001b[0m\n\u001b[0m\u001b[1;32m    111\u001b[0m \u001b[0;34m\u001b[0m\u001b[0m\n\u001b[1;32m    112\u001b[0m     \u001b[0;32mreturn\u001b[0m \u001b[0mfinal_solution\u001b[0m\u001b[0;34m\u001b[0m\u001b[0;34m\u001b[0m\u001b[0m\n",
            "\u001b[0;32m<ipython-input-132-be650fec39a7>\u001b[0m in \u001b[0;36mevolutionary_computation\u001b[0;34m(W, residual_error, num_generations)\u001b[0m\n\u001b[1;32m     84\u001b[0m \u001b[0;34m\u001b[0m\u001b[0m\n\u001b[1;32m     85\u001b[0m     \u001b[0;31m# Perform evolution\u001b[0m\u001b[0;34m\u001b[0m\u001b[0;34m\u001b[0m\u001b[0m\n\u001b[0;32m---> 86\u001b[0;31m     \u001b[0malgorithms\u001b[0m\u001b[0;34m.\u001b[0m\u001b[0meaSimple\u001b[0m\u001b[0;34m(\u001b[0m\u001b[0mpopulation\u001b[0m\u001b[0;34m,\u001b[0m \u001b[0mtoolbox\u001b[0m\u001b[0;34m,\u001b[0m \u001b[0mcxpb\u001b[0m\u001b[0;34m=\u001b[0m\u001b[0;36m0.5\u001b[0m\u001b[0;34m,\u001b[0m \u001b[0mmutpb\u001b[0m\u001b[0;34m=\u001b[0m\u001b[0;36m0.2\u001b[0m\u001b[0;34m,\u001b[0m \u001b[0mngen\u001b[0m\u001b[0;34m=\u001b[0m\u001b[0mnum_generations\u001b[0m\u001b[0;34m,\u001b[0m \u001b[0mverbose\u001b[0m\u001b[0;34m=\u001b[0m\u001b[0;32mFalse\u001b[0m\u001b[0;34m)\u001b[0m\u001b[0;34m\u001b[0m\u001b[0;34m\u001b[0m\u001b[0m\n\u001b[0m\u001b[1;32m     87\u001b[0m \u001b[0;34m\u001b[0m\u001b[0m\n\u001b[1;32m     88\u001b[0m     \u001b[0;31m# Get the best individual\u001b[0m\u001b[0;34m\u001b[0m\u001b[0;34m\u001b[0m\u001b[0m\n",
            "\u001b[0;32m/usr/local/lib/python3.10/dist-packages/deap/algorithms.py\u001b[0m in \u001b[0;36meaSimple\u001b[0;34m(population, toolbox, cxpb, mutpb, ngen, stats, halloffame, verbose)\u001b[0m\n\u001b[1;32m    150\u001b[0m     \u001b[0mfitnesses\u001b[0m \u001b[0;34m=\u001b[0m \u001b[0mtoolbox\u001b[0m\u001b[0;34m.\u001b[0m\u001b[0mmap\u001b[0m\u001b[0;34m(\u001b[0m\u001b[0mtoolbox\u001b[0m\u001b[0;34m.\u001b[0m\u001b[0mevaluate\u001b[0m\u001b[0;34m,\u001b[0m \u001b[0minvalid_ind\u001b[0m\u001b[0;34m)\u001b[0m\u001b[0;34m\u001b[0m\u001b[0;34m\u001b[0m\u001b[0m\n\u001b[1;32m    151\u001b[0m     \u001b[0;32mfor\u001b[0m \u001b[0mind\u001b[0m\u001b[0;34m,\u001b[0m \u001b[0mfit\u001b[0m \u001b[0;32min\u001b[0m \u001b[0mzip\u001b[0m\u001b[0;34m(\u001b[0m\u001b[0minvalid_ind\u001b[0m\u001b[0;34m,\u001b[0m \u001b[0mfitnesses\u001b[0m\u001b[0;34m)\u001b[0m\u001b[0;34m:\u001b[0m\u001b[0;34m\u001b[0m\u001b[0;34m\u001b[0m\u001b[0m\n\u001b[0;32m--> 152\u001b[0;31m         \u001b[0mind\u001b[0m\u001b[0;34m.\u001b[0m\u001b[0mfitness\u001b[0m\u001b[0;34m.\u001b[0m\u001b[0mvalues\u001b[0m \u001b[0;34m=\u001b[0m \u001b[0mfit\u001b[0m\u001b[0;34m\u001b[0m\u001b[0;34m\u001b[0m\u001b[0m\n\u001b[0m\u001b[1;32m    153\u001b[0m \u001b[0;34m\u001b[0m\u001b[0m\n\u001b[1;32m    154\u001b[0m     \u001b[0;32mif\u001b[0m \u001b[0mhalloffame\u001b[0m \u001b[0;32mis\u001b[0m \u001b[0;32mnot\u001b[0m \u001b[0;32mNone\u001b[0m\u001b[0;34m:\u001b[0m\u001b[0;34m\u001b[0m\u001b[0;34m\u001b[0m\u001b[0m\n",
            "\u001b[0;32m/usr/local/lib/python3.10/dist-packages/deap/base.py\u001b[0m in \u001b[0;36msetValues\u001b[0;34m(self, values)\u001b[0m\n\u001b[1;32m    186\u001b[0m \u001b[0;34m\u001b[0m\u001b[0m\n\u001b[1;32m    187\u001b[0m     \u001b[0;32mdef\u001b[0m \u001b[0msetValues\u001b[0m\u001b[0;34m(\u001b[0m\u001b[0mself\u001b[0m\u001b[0;34m,\u001b[0m \u001b[0mvalues\u001b[0m\u001b[0;34m)\u001b[0m\u001b[0;34m:\u001b[0m\u001b[0;34m\u001b[0m\u001b[0;34m\u001b[0m\u001b[0m\n\u001b[0;32m--> 188\u001b[0;31m         \u001b[0;32massert\u001b[0m \u001b[0mlen\u001b[0m\u001b[0;34m(\u001b[0m\u001b[0mvalues\u001b[0m\u001b[0;34m)\u001b[0m \u001b[0;34m==\u001b[0m \u001b[0mlen\u001b[0m\u001b[0;34m(\u001b[0m\u001b[0mself\u001b[0m\u001b[0;34m.\u001b[0m\u001b[0mweights\u001b[0m\u001b[0;34m)\u001b[0m\u001b[0;34m,\u001b[0m \u001b[0;34m\"Assigned values have not the same length than fitness weights\"\u001b[0m\u001b[0;34m\u001b[0m\u001b[0;34m\u001b[0m\u001b[0m\n\u001b[0m\u001b[1;32m    189\u001b[0m         \u001b[0;32mtry\u001b[0m\u001b[0;34m:\u001b[0m\u001b[0;34m\u001b[0m\u001b[0;34m\u001b[0m\u001b[0m\n\u001b[1;32m    190\u001b[0m             \u001b[0mself\u001b[0m\u001b[0;34m.\u001b[0m\u001b[0mwvalues\u001b[0m \u001b[0;34m=\u001b[0m \u001b[0mtuple\u001b[0m\u001b[0;34m(\u001b[0m\u001b[0mmap\u001b[0m\u001b[0;34m(\u001b[0m\u001b[0mmul\u001b[0m\u001b[0;34m,\u001b[0m \u001b[0mvalues\u001b[0m\u001b[0;34m,\u001b[0m \u001b[0mself\u001b[0m\u001b[0;34m.\u001b[0m\u001b[0mweights\u001b[0m\u001b[0;34m)\u001b[0m\u001b[0;34m)\u001b[0m\u001b[0;34m\u001b[0m\u001b[0;34m\u001b[0m\u001b[0m\n",
            "\u001b[0;31mTypeError\u001b[0m: object of type 'numpy.float64' has no len()"
          ]
        }
      ]
    },
    {
      "cell_type": "code",
      "source": [
        "X = np.random.rand(5, 5)\n",
        "s = 2\n",
        "indices = np.random.choice(X.shape[0], s, replace=False)\n",
        "C = X[indices, :]\n",
        "R = X[:, indices]\n",
        "print(C.T.shape, R.shape)\n",
        "# np.hstack((C.T, R))\n",
        "\n",
        "\n",
        "# Compute SVD of concatenated matrices\n",
        "U, sigma, Vt = svds(np.hstack((C.T, R)), k=s)\n",
        "\n",
        "# Extract the low-rank representation\n",
        "W = np.dot(U[:, :s], np.diag(sigma[:s]))\n",
        "\n",
        "# Calculate the residual error\n",
        "reconstructed_X = np.dot(W, Vt[:s, :])\n",
        "\n",
        "\n",
        "X = X.reshape(-1)  # [1, 2, 3, 4, 5, 6]\n",
        "reconstructed_X = reconstructed_X.reshape(-1)\n",
        "max_size = max(len(X), len(reconstructed_X))\n",
        "X_padded = np.pad(X, (0, max_size - len(X)), mode='constant')\n",
        "reconstructed_X_padded = np.pad(reconstructed_X, (0, max_size - len(reconstructed_X)), mode='constant')\n",
        "residual_error = X_padded - reconstructed_X_padded\n",
        "\n",
        "# residual_error = X - reconstructed_X"
      ],
      "metadata": {
        "colab": {
          "base_uri": "https://localhost:8080/"
        },
        "id": "VwbWEEx99jKt",
        "outputId": "7ed0146e-a4d9-4873-85ee-ec82a1633df2"
      },
      "execution_count": 117,
      "outputs": [
        {
          "output_type": "stream",
          "name": "stdout",
          "text": [
            "(5, 2) (5, 2)\n",
            "[ 1.09791500e-01  7.58166117e-01 -6.68470989e-01 -2.17318588e-01\n",
            " -7.85734899e-01 -6.87348919e-01  3.52584092e-01 -2.77870978e-01\n",
            "  5.11033630e-01 -5.96118353e-04  1.43105334e-01 -3.19882899e-03\n",
            " -6.50097445e-01 -2.67399903e-01  1.84603734e-01  1.90549382e-01\n",
            " -8.78687888e-02  6.38769826e-01 -6.23525595e-02  5.71467399e-01\n",
            "  1.08779601e-01  6.67099928e-01  5.48732320e-01  1.23377988e-01\n",
            "  3.44422878e-01]\n"
          ]
        }
      ]
    },
    {
      "cell_type": "code",
      "source": [
        "X = X.reshape(-1)"
      ],
      "metadata": {
        "id": "To2pGTp6HAZN"
      },
      "execution_count": 118,
      "outputs": []
    },
    {
      "cell_type": "code",
      "source": [
        "reconstructed_X"
      ],
      "metadata": {
        "colab": {
          "base_uri": "https://localhost:8080/"
        },
        "id": "N5WwSDV2HDY8",
        "outputId": "b81047e0-492b-4d78-a7ee-3762ea41272e"
      },
      "execution_count": 103,
      "outputs": [
        {
          "output_type": "execute_result",
          "data": {
            "text/plain": [
              "array([[0.11477243, 0.08541815, 0.08674438, 0.55887401],\n",
              "       [0.95191706, 0.84430115, 0.93067731, 0.234488  ],\n",
              "       [0.67988977, 0.57935281, 0.62790949, 0.93440875],\n",
              "       [0.49992143, 0.42947443, 0.46710765, 0.57441104],\n",
              "       [0.60054623, 0.5287878 , 0.58113598, 0.27316113]])"
            ]
          },
          "metadata": {},
          "execution_count": 103
        }
      ]
    },
    {
      "cell_type": "code",
      "source": [
        "U[:, :s]"
      ],
      "metadata": {
        "colab": {
          "base_uri": "https://localhost:8080/"
        },
        "id": "9a-UqjrmGZfK",
        "outputId": "fe1d1637-b1a9-40b2-bb07-bcc84078ef60"
      },
      "execution_count": 96,
      "outputs": [
        {
          "output_type": "execute_result",
          "data": {
            "text/plain": [
              "array([[-0.48741081,  0.33130582, -0.24909498, -0.47573955],\n",
              "       [-0.00914963,  0.45650982, -0.23657013, -0.46396237],\n",
              "       [ 0.8090027 ,  0.15234246,  0.19402966, -0.43819538],\n",
              "       [-0.32550018, -0.23464699,  0.80155106, -0.42196132],\n",
              "       [ 0.04371776, -0.77689626, -0.44928237, -0.43398647]])"
            ]
          },
          "metadata": {},
          "execution_count": 96
        }
      ]
    },
    {
      "cell_type": "code",
      "source": [
        "sigma"
      ],
      "metadata": {
        "colab": {
          "base_uri": "https://localhost:8080/"
        },
        "id": "W7v_yCVQGbFj",
        "outputId": "8932a355-2781-4f38-9811-19b57735f117"
      },
      "execution_count": 91,
      "outputs": [
        {
          "output_type": "execute_result",
          "data": {
            "text/plain": [
              "array([0.38681849, 0.49880456, 0.86881056, 2.56567607])"
            ]
          },
          "metadata": {},
          "execution_count": 91
        }
      ]
    },
    {
      "cell_type": "code",
      "source": [
        "Vt"
      ],
      "metadata": {
        "colab": {
          "base_uri": "https://localhost:8080/"
        },
        "id": "HxX01CaRGd8h",
        "outputId": "65c1376d-e2e4-4538-fafa-6dc1fec17b4a"
      },
      "execution_count": 93,
      "outputs": [
        {
          "output_type": "execute_result",
          "data": {
            "text/plain": [
              "array([[-0.11190819, -0.33949625,  0.23331042,  0.44217891, -0.56363464,\n",
              "         0.55188667],\n",
              "       [-0.34346635, -0.38470642,  0.4171964 ,  0.45051998,  0.35666576,\n",
              "        -0.47937489],\n",
              "       [-0.54401516,  0.34082748,  0.59071208, -0.46305588, -0.09183635,\n",
              "         0.12684128],\n",
              "       [-0.31688102, -0.43848544, -0.31794718, -0.37188572, -0.52532784,\n",
              "        -0.43813035]])"
            ]
          },
          "metadata": {},
          "execution_count": 93
        }
      ]
    },
    {
      "cell_type": "code",
      "source": [],
      "metadata": {
        "id": "EUBcyha6Li6O"
      },
      "execution_count": null,
      "outputs": []
    }
  ],
  "metadata": {
    "colab": {
      "provenance": [],
      "authorship_tag": "ABX9TyOStTh+sM2SsxZd9cV3U6h5",
      "include_colab_link": true
    },
    "kernelspec": {
      "display_name": "Python 3",
      "name": "python3"
    },
    "language_info": {
      "name": "python"
    }
  },
  "nbformat": 4,
  "nbformat_minor": 0
}