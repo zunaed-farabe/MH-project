{
  "cells": [
    {
      "cell_type": "markdown",
      "metadata": {
        "id": "view-in-github",
        "colab_type": "text"
      },
      "source": [
        "<a href=\"https://colab.research.google.com/github/zunaed-farabe/MH-project/blob/main/Meta_Heuristic_project.ipynb\" target=\"_parent\"><img src=\"https://colab.research.google.com/assets/colab-badge.svg\" alt=\"Open In Colab\"/></a>"
      ]
    },
    {
      "cell_type": "code",
      "source": [
        "!pip install deap"
      ],
      "metadata": {
        "colab": {
          "base_uri": "https://localhost:8080/"
        },
        "id": "WCEoI9h-ykYL",
        "outputId": "e9cd6d19-2ea5-4e8e-ce56-57abf00d77c1"
      },
      "execution_count": 4,
      "outputs": [
        {
          "output_type": "stream",
          "name": "stdout",
          "text": [
            "Collecting deap\n",
            "  Downloading deap-1.4.1-cp310-cp310-manylinux_2_5_x86_64.manylinux1_x86_64.manylinux_2_17_x86_64.manylinux2014_x86_64.whl (135 kB)\n",
            "\u001b[2K     \u001b[90m━━━━━━━━━━━━━━━━━━━━━━━━━━━━━━━━━━━━━━━━\u001b[0m \u001b[32m135.4/135.4 kB\u001b[0m \u001b[31m1.5 MB/s\u001b[0m eta \u001b[36m0:00:00\u001b[0m\n",
            "\u001b[?25hRequirement already satisfied: numpy in /usr/local/lib/python3.10/dist-packages (from deap) (1.25.2)\n",
            "Installing collected packages: deap\n",
            "Successfully installed deap-1.4.1\n"
          ]
        }
      ]
    },
    {
      "cell_type": "code",
      "source": [],
      "metadata": {
        "id": "Ru4EVfJ6yiJa"
      },
      "execution_count": null,
      "outputs": []
    },
    {
      "cell_type": "code",
      "source": [
        "import numpy as np\n",
        "from scipy.sparse.linalg import svds\n",
        "from deap import algorithms, base, creator, tools\n",
        "global W\n",
        "def learn_low_rank_representation(X, s):\n",
        "    \"\"\"\n",
        "    Learn a low-rank representation of the dataset X.\n",
        "\n",
        "    Parameters:\n",
        "        X (numpy.ndarray): The dataset.\n",
        "        s (int): The number of rows/columns to sample.\n",
        "\n",
        "    Returns:\n",
        "        W (numpy.ndarray): The low-rank representation.\n",
        "        residual_error (numpy.ndarray): The residual error.\n",
        "    \"\"\"\n",
        "    # Random sampling of s rows/columns\n",
        "    indices = np.random.choice(X.shape[0], s, replace=False)\n",
        "    C = X[indices, :]\n",
        "    R = X[:, indices]\n",
        "\n",
        "    # Compute SVD of concatenated matrices\n",
        "    U, sigma, Vt = svds(np.hstack((C.T, R)), k=s)\n",
        "\n",
        "    # Extract the low-rank representation\n",
        "    W = np.dot(U[:, :s], np.diag(sigma[:s]))\n",
        "\n",
        "    # Calculate the residual error\n",
        "    reconstructed_X = np.dot(W, Vt[:s, :])\n",
        "\n",
        "\n",
        "    X = X.reshape(-1)  # [1, 2, 3, 4, 5, 6]\n",
        "    reconstructed_X = reconstructed_X.reshape(-1)\n",
        "    max_size = max(len(X), len(reconstructed_X))\n",
        "    X_padded = np.pad(X, (0, max_size - len(X)), mode='constant')\n",
        "    reconstructed_X_padded = np.pad(reconstructed_X, (0, max_size - len(reconstructed_X)), mode='constant')\n",
        "    residual_error = X_padded - reconstructed_X_padded\n",
        "\n",
        "\n",
        "    return W, residual_error\n",
        "\n",
        "def evolutionary_computation(W, residual_error, num_generations):\n",
        "    \"\"\"\n",
        "    Perform evolutionary computation using a genetic algorithm.\n",
        "\n",
        "    Parameters:\n",
        "        W (numpy.ndarray): The low-rank representation.\n",
        "        residual_error (numpy.ndarray): The residual error.\n",
        "        num_generations (int): The number of generations.\n",
        "\n",
        "    Returns:\n",
        "        final_solution (numpy.ndarray): The final solution found by the genetic algorithm.\n",
        "    \"\"\"\n",
        "    # Define the fitness function\n",
        "\n",
        "    def evaluate(individual):\n",
        "        global W\n",
        "        individual = individual.reshape(-1)\n",
        "        W = W.reshape(-1)\n",
        "        max_size = max(len(W), len(individual))\n",
        "        W_padded = np.pad(W, (0, max_size - len(W)), mode='constant')\n",
        "        individual = np.pad(individual, (0, max_size - len(individual)), mode='constant')\n",
        "        new_residual_error = W_padded.dot(individual)\n",
        "\n",
        "        return np.sum(np.square(new_residual_error - residual_error))\n",
        "\n",
        "    # Define genetic algorithm parameters\n",
        "    creator.create(\"FitnessMin\", base.Fitness, weights=(-1.0,))\n",
        "    creator.create(\"Individual\", np.ndarray, fitness=creator.FitnessMin)\n",
        "\n",
        "    toolbox = base.Toolbox()\n",
        "    toolbox.register(\"attr_float\", np.random.uniform, 0, 1)\n",
        "    toolbox.register(\"individual\", tools.initRepeat, creator.Individual, toolbox.attr_float, n=W.shape[1])\n",
        "    toolbox.register(\"population\", tools.initRepeat, list, toolbox.individual)\n",
        "    toolbox.register(\"mate\", tools.cxBlend, alpha=0.5)\n",
        "    toolbox.register(\"mutate\", tools.mutGaussian, mu=0, sigma=0.1, indpb=0.05)\n",
        "    toolbox.register(\"select\", tools.selTournament, tournsize=3)\n",
        "    toolbox.register(\"evaluate\", evaluate)\n",
        "\n",
        "    # Initialize population\n",
        "    population = toolbox.population(n=100)\n",
        "\n",
        "    # Perform evolution\n",
        "    algorithms.eaSimple(population, toolbox, cxpb=0.5, mutpb=0.2, ngen=num_generations, verbose=False)\n",
        "\n",
        "    # Get the best individual\n",
        "    final_solution = tools.selBest(population, k=1)[0]\n",
        "\n",
        "    return final_solution\n",
        "\n",
        "def main(X, s, num_generations):\n",
        "    \"\"\"\n",
        "    Main function to combine the steps of learning low-rank representation\n",
        "    and performing evolutionary computation.\n",
        "\n",
        "    Parameters:\n",
        "        X (numpy.ndarray): The dataset.\n",
        "        s (int): The number of rows/columns to sample.\n",
        "        num_generations (int): The number of generations for evolutionary computation.\n",
        "\n",
        "    Returns:\n",
        "        final_solution (numpy.ndarray): The final solution found by the evolutionary computation.\n",
        "    \"\"\"\n",
        "    # Step 1: Learning a low-rank representation\n",
        "    W, residual_error = learn_low_rank_representation(X, s)\n",
        "\n",
        "    # Step 2: Performing evolutionary computation\n",
        "    final_solution = evolutionary_computation(W, residual_error, num_generations)\n",
        "\n",
        "    return final_solution\n",
        "\n",
        "# Example usage:\n",
        "X = np.random.rand(10, 10)\n",
        "s = 4\n",
        "num_generations = 5\n",
        "result = main(X, s, num_generations)\n"
      ],
      "metadata": {
        "id": "s5is0svb9f1G"
      },
      "execution_count": null,
      "outputs": []
    },
    {
      "cell_type": "markdown",
      "source": [
        "# Loading data"
      ],
      "metadata": {
        "id": "Vmo_g44SN5nJ"
      }
    },
    {
      "cell_type": "code",
      "source": [
        "def read_vrp_file(file_path):\n",
        "    with open(file_path, 'r') as file:\n",
        "        lines = file.readlines()\n",
        "\n",
        "    data = {}\n",
        "    section = None\n",
        "    for line in lines:\n",
        "        line = line.strip()\n",
        "        if not line:\n",
        "            continue\n",
        "        elif line.startswith('COMMENT'):\n",
        "            pass\n",
        "        elif line.startswith('NAME'):\n",
        "            data['name'] = line.split(':')[1].strip()\n",
        "        elif line.startswith('TYPE'):\n",
        "            data['type'] = line.split(':')[1].strip()\n",
        "        elif line.startswith('DIMENSION'):\n",
        "            data['dimension'] = int(line.split(':')[1].strip())\n",
        "        elif line.startswith('EDGE_WEIGHT_TYPE'):\n",
        "            data['edge_weight_type'] = line.split(':')[1].strip()\n",
        "        elif line.startswith('CAPACITY'):\n",
        "            data['capacity'] = int(line.split(':')[1].strip())\n",
        "        elif line.startswith('NODE_COORD_SECTION'):\n",
        "            section = 'node_coords'\n",
        "            data['node_coords'] = []\n",
        "        elif line.startswith('DEMAND_SECTION'):\n",
        "            section = 'demands'\n",
        "            data['demands'] = []\n",
        "        elif line.startswith('DEPOT_SECTION'):\n",
        "            section = 'depots'\n",
        "            data['depots'] = []\n",
        "        elif section == 'node_coords':\n",
        "            node_id, x, y = map(float, line.split())\n",
        "            data['node_coords'].append((node_id, x, y))\n",
        "        elif section == 'demands':\n",
        "            node_id, demand = map(int, line.split())\n",
        "            data['demands'].append((node_id, demand))\n",
        "        elif section == 'depots':\n",
        "            if line.startswith('EOF'):\n",
        "              break\n",
        "            else:\n",
        "              node_id = int(line.split()[0])\n",
        "              data['depots'].append(node_id)\n",
        "\n",
        "    return data\n",
        "\n",
        "file_path = '/content/gil262.vrp'\n",
        "vrp_data = read_vrp_file(file_path)\n",
        "\n",
        "# print(vrp_data)\n",
        "# display(vrp_data[\"node_coords\"][10:30])"
      ],
      "metadata": {
        "id": "zz9xzvqgqrqX"
      },
      "execution_count": 50,
      "outputs": []
    },
    {
      "cell_type": "code",
      "source": [
        "type(vrp_data[\"node_coords\"])"
      ],
      "metadata": {
        "colab": {
          "base_uri": "https://localhost:8080/"
        },
        "id": "GvsIug0l2vSu",
        "outputId": "8a23b280-f5c0-4548-e82c-8bcd799bfaeb"
      },
      "execution_count": 19,
      "outputs": [
        {
          "output_type": "execute_result",
          "data": {
            "text/plain": [
              "list"
            ]
          },
          "metadata": {},
          "execution_count": 19
        }
      ]
    },
    {
      "cell_type": "code",
      "source": [
        "coordinates = []\n",
        "for cord in vrp_data[\"node_coords\"]:\n",
        "  coordinates.append([cord[1], cord[1]])\n",
        "\n",
        "array_coord = np.array(coordinates)\n",
        "# Find the minimum value\n",
        "min_val = np.min(array_coord)\n",
        "print(\"Minimum value:\", min_val)\n",
        "\n",
        "# Find the maximum value\n",
        "max_val = np.max(array_coord)\n",
        "print(\"Maximum value:\", max_val)"
      ],
      "metadata": {
        "colab": {
          "base_uri": "https://localhost:8080/"
        },
        "id": "Lmpu_cbU0GFI",
        "outputId": "19940780-8565-4976-9cf0-0f6ca1b331ef"
      },
      "execution_count": 51,
      "outputs": [
        {
          "output_type": "stream",
          "name": "stdout",
          "text": [
            "Minimum value: -99.0\n",
            "Maximum value: 99.0\n"
          ]
        }
      ]
    },
    {
      "cell_type": "code",
      "source": [
        "# Get the size of the original array\n",
        "size = array_coord.shape[0]\n",
        "\n",
        "# Create a square matrix of the same size filled with zeros\n",
        "square_matrix = np.zeros((size, size))\n",
        "\n",
        "# Assign the original values to their corresponding positions in the square matrix\n",
        "for i, (x, y) in enumerate(array_coord):\n",
        "    square_matrix[i, 0] = x\n",
        "    square_matrix[i, 1] = y\n",
        "\n",
        "\n",
        "print(square_matrix)"
      ],
      "metadata": {
        "colab": {
          "base_uri": "https://localhost:8080/"
        },
        "id": "BrJ1GDcU4F6Z",
        "outputId": "9f725d2f-2570-4f7c-8d92-d42537428e91"
      },
      "execution_count": 52,
      "outputs": [
        {
          "output_type": "stream",
          "name": "stdout",
          "text": [
            "[[-33. -33.   0. ...   0.   0.   0.]\n",
            " [-99. -99.   0. ...   0.   0.   0.]\n",
            " [-59. -59.   0. ...   0.   0.   0.]\n",
            " ...\n",
            " [ 40.  40.   0. ...   0.   0.   0.]\n",
            " [-60. -60.   0. ...   0.   0.   0.]\n",
            " [-60. -60.   0. ...   0.   0.   0.]]\n"
          ]
        }
      ]
    },
    {
      "cell_type": "markdown",
      "source": [
        "## Low Rank + (1+1) Evolutionary Strategy"
      ],
      "metadata": {
        "id": "BQ20a-ZsOPqd"
      }
    },
    {
      "cell_type": "code",
      "source": [
        "\n",
        "from scipy.sparse.linalg import svds\n",
        "\n",
        "def learn_low_rank_representation(X, s):\n",
        "    \"\"\"\n",
        "    Learn a low-rank representation of the dataset X.\n",
        "\n",
        "    Parameters:\n",
        "        X (numpy.ndarray): The dataset.\n",
        "        s (int): The number of rows/columns to sample.\n",
        "\n",
        "    Returns:\n",
        "        W (numpy.ndarray): The low-rank representation.\n",
        "        residual_error (numpy.ndarray): The residual error.\n",
        "    \"\"\"\n",
        "    # Random sampling of s rows/columns\n",
        "    indices = np.random.choice(X.shape[0], s, replace=False)\n",
        "    C = X[indices, :]\n",
        "    R = X[:, indices]\n",
        "\n",
        "    # Compute SVD of concatenated matrices\n",
        "    U, sigma, Vt = svds(np.hstack((C.T, R)), k=s)\n",
        "\n",
        "    # Extract the low-rank representation\n",
        "    W = np.dot(U[:, :s], np.diag(sigma[:s]))\n",
        "\n",
        "    # Calculate the residual error\n",
        "    reconstructed_X = np.dot(W, Vt[:s, :])\n",
        "\n",
        "\n",
        "    X = X.reshape(-1)  # [1, 2, 3, 4, 5, 6]\n",
        "    reconstructed_X = reconstructed_X.reshape(-1)\n",
        "    max_size = max(len(X), len(reconstructed_X))\n",
        "    X_padded = np.pad(X, (0, max_size - len(X)), mode='constant')\n",
        "    reconstructed_X_padded = np.pad(reconstructed_X, (0, max_size - len(reconstructed_X)), mode='constant')\n",
        "    residual_error = X_padded - reconstructed_X_padded\n",
        "\n",
        "\n",
        "    return W, residual_error\n",
        "\n",
        "# Define the fitness function\n",
        "def evaluate(individual,W,residual_error):\n",
        "\n",
        "\n",
        "    individual = individual.reshape(-1)\n",
        "    W = W.reshape(-1)\n",
        "    max_size = max(len(W), len(individual))\n",
        "    W_padded = np.pad(W, (0, max_size - len(W)), mode='constant')\n",
        "    individual = np.pad(individual, (0, max_size - len(individual)), mode='constant')\n",
        "    new_residual_error = W_padded.dot(individual)\n",
        "    return np.sum(np.square(new_residual_error - residual_error))\n",
        "\n",
        "def evolutionary_computation(W, residual_error, num_generations):\n",
        "    \"\"\"\n",
        "    Perform evolutionary computation using the (1+1)-Evolution Strategy.\n",
        "\n",
        "    Parameters:\n",
        "        W (numpy.ndarray): The low-rank representation.\n",
        "        residual_error (numpy.ndarray): The residual error.\n",
        "        num_generations (int): The number of generations.\n",
        "\n",
        "    Returns:\n",
        "        final_solution (numpy.ndarray): The final solution found by the evolutionary strategy.\n",
        "    \"\"\"\n",
        "    # Initialize the parent solution\n",
        "    parent = np.random.uniform(0, 1, W.shape[1])\n",
        "\n",
        "    # Perform (1+1)-ES\n",
        "    for _ in range(num_generations):\n",
        "        # Create an offspring by mutating the parent\n",
        "        offspring = parent + np.random.normal(0, 0.1, W.shape[1])\n",
        "\n",
        "        # Evaluate fitness of parent and offspring\n",
        "        parent_fitness = evaluate(parent,W,residual_error)\n",
        "        offspring_fitness = evaluate(offspring,W,residual_error)\n",
        "\n",
        "        # Select the better solution for the next generation\n",
        "        if offspring_fitness < parent_fitness:\n",
        "            parent = offspring\n",
        "\n",
        "    # The final solution is the parent after the last generation\n",
        "    final_solution = parent\n",
        "\n",
        "    return final_solution\n",
        "\n",
        "def main(X, s, num_generations):\n",
        "    \"\"\"\n",
        "    Main function to combine the steps of learning low-rank representation\n",
        "    and performing evolutionary computation.\n",
        "\n",
        "    Parameters:\n",
        "        X (numpy.ndarray): The dataset.\n",
        "        s (int): The number of rows/columns to sample.\n",
        "        num_generations (int): The number of generations for evolutionary computation.\n",
        "\n",
        "    Returns:\n",
        "        final_solution (numpy.ndarray): The final solution found by the evolutionary computation.\n",
        "    \"\"\"\n",
        "    # Step 1: Learning a low-rank representation\n",
        "    W, residual_error = learn_low_rank_representation(X, s)\n",
        "\n",
        "    # Step 2: Performing evolutionary computation\n",
        "    final_solution = evolutionary_computation(W, residual_error, num_generations)\n",
        "\n",
        "    return final_solution\n",
        "\n",
        "# Example usage:\n",
        "# X = np.random.rand(100, 100)\n",
        "X = square_matrix\n",
        "s = 2\n",
        "num_generations = 2\n",
        "result = main(X, s, num_generations)\n",
        "print(result)"
      ],
      "metadata": {
        "colab": {
          "base_uri": "https://localhost:8080/"
        },
        "id": "EUBcyha6Li6O",
        "outputId": "294d0d34-dff6-446d-c688-b0162ce1ae1c"
      },
      "execution_count": 53,
      "outputs": [
        {
          "output_type": "stream",
          "name": "stdout",
          "text": [
            "[0.93085215 0.6578769 ]\n"
          ]
        }
      ]
    },
    {
      "cell_type": "code",
      "source": [
        "import numpy as np\n",
        "\n",
        "def low_rank_representation(data, sample_size):\n",
        "    \"\"\"\n",
        "    Performs low-rank representation on the given data.\n",
        "\n",
        "    Args:\n",
        "        data: A 2D numpy array representing the data points.\n",
        "        sample_size: The number of samples to use for reconstruction.\n",
        "\n",
        "    Returns:\n",
        "        A reconstructed 2D numpy array representing the low-rank approximation.\n",
        "    \"\"\"\n",
        "    M, N = data.shape  # Get dimensions of the data\n",
        "\n",
        "    # Sample data points (replace with your sampling strategy)\n",
        "    indices = np.random.choice(M, sample_size, replace=False)\n",
        "    sampled_data = data[indices, :]\n",
        "\n",
        "    # Perform Singular Value Decomposition (SVD)\n",
        "    U, S, Vt = np.linalg.svd(sampled_data)\n",
        "\n",
        "    # Choose the top singular values and vectors\n",
        "    Ur = U[:, :sample_size]\n",
        "    Sr = np.diag(S[:sample_size])\n",
        "    Vtr = Vt[:sample_size, :]\n",
        "\n",
        "    # Reconstruct data using low-rank representation\n",
        "    reconstructed_data = np.dot(Ur, np.dot(Sr, Vtr))\n",
        "\n",
        "    return reconstructed_data\n",
        "\n",
        "# Example usage\n",
        "data = np.random.rand(100, 100)  # Replace with your actual data\n",
        "sample_size = 10  # Adjust sample size as needed\n",
        "\n",
        "reconstructed_data = low_rank_representation(data, sample_size)\n",
        "\n",
        "print(reconstructed_data.shape)  # Should be the same as data.shape\n"
      ],
      "metadata": {
        "colab": {
          "base_uri": "https://localhost:8080/"
        },
        "id": "Ve9WWia2BNs5",
        "outputId": "09a4a3fc-58b9-4f21-a347-ca23d14da8a6"
      },
      "execution_count": 47,
      "outputs": [
        {
          "output_type": "stream",
          "name": "stdout",
          "text": [
            "(10, 100)\n"
          ]
        }
      ]
    },
    {
      "cell_type": "code",
      "source": [],
      "metadata": {
        "id": "KxZSuQtrNZmf"
      },
      "execution_count": null,
      "outputs": []
    }
  ],
  "metadata": {
    "colab": {
      "provenance": [],
      "authorship_tag": "ABX9TyO+pRjo+A6no1bM+fvIBoOQ",
      "include_colab_link": true
    },
    "kernelspec": {
      "display_name": "Python 3",
      "name": "python3"
    },
    "language_info": {
      "name": "python"
    }
  },
  "nbformat": 4,
  "nbformat_minor": 0
}